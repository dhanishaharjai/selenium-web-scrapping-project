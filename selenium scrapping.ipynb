{
 "cells": [
  {
   "cell_type": "code",
   "execution_count": 3,
   "metadata": {},
   "outputs": [],
   "source": [
    "#Step 1 – Import all required libraries\n",
    "#pip install webdriver_manager\n",
    "import os\n",
    "import selenium\n",
    "from selenium import webdriver\n",
    "import time\n",
    "from PIL import Image\n",
    "import io\n",
    "import requests\n",
    "from webdriver_manager.chrome import ChromeDriverManager\n",
    "\n",
    "os.chdir('my scrap')"
   ]
  },
  {
   "cell_type": "code",
   "execution_count": 4,
   "metadata": {},
   "outputs": [
    {
     "name": "stderr",
     "output_type": "stream",
     "text": [
      "[WDM] - ====== WebDriver manager ======\n"
     ]
    },
    {
     "name": "stdout",
     "output_type": "stream",
     "text": [
      "\n",
      "\n"
     ]
    },
    {
     "name": "stderr",
     "output_type": "stream",
     "text": [
      "[WDM] - Current google-chrome version is 89.0.4389\n",
      "[WDM] - Get LATEST driver version for 89.0.4389\n",
      "[WDM] - Driver [/Users/dhanishaharjai/.wdm/drivers/chromedriver/mac64/89.0.4389.23/chromedriver] found in cache\n"
     ]
    }
   ],
   "source": [
    "# In this step, we’re installing a Chrome driver and using a headless browser for web scraping.\n",
    "\n",
    "# In[3]:\n",
    "\n",
    "\n",
    "#Step 2 – Install Chrome Driver\n",
    "#Install driver\n",
    "opts=webdriver.ChromeOptions()\n",
    "opts.headless=True\n",
    "\n",
    "driver = webdriver.Chrome(ChromeDriverManager().install() ,options=opts)\n",
    "\n"
   ]
  },
  {
   "cell_type": "code",
   "execution_count": 5,
   "metadata": {},
   "outputs": [],
   "source": [
    "#Step 3 – Specify search URL\n",
    "\n",
    "search_url = \"https://www.google.com/search?q={q}&tbm=isch&tbs=sur%3Afc&hl=en&ved=0CAIQpwVqFwoTCKCa1c6s4-oCFQAAAAAdAAAAABAC&biw=1251&bih=568\"\n",
    "driver.get(search_url.format(q='Car'))\n",
    "\n"
   ]
  },
  {
   "cell_type": "code",
   "execution_count": 6,
   "metadata": {},
   "outputs": [],
   "source": [
    "#Step 4 –  Write a function to take the cursor to the end of the page\n",
    "def scroll_to_end(driver):\n",
    "    driver.execute_script(\"window.scrollTo(0, document.body.scrollHeight);\")\n",
    "    time.sleep(5)#sleep_between_interactions\n",
    "\n"
   ]
  },
  {
   "cell_type": "code",
   "execution_count": 7,
   "metadata": {},
   "outputs": [],
   "source": [
    "#Step5. Write a function to get URL of each Image\n",
    "\n",
    "#no license issues\n",
    "\n",
    "def getImageUrls(name,totalImgs,driver):\n",
    "    \n",
    "    search_url = \"https://www.google.com/search?q={q}&tbm=isch&tbs=sur%3Afc&hl=en&ved=0CAIQpwVqFwoTCKCa1c6s4-oCFQAAAAAdAAAAABAC&biw=1251&bih=568\"\n",
    "    driver.get(search_url.format(q=name))\n",
    "    img_urls = set()\n",
    "    img_count = 0\n",
    "    results_start = 0  \n",
    "    \n",
    "    while(img_count<totalImgs): #Extract actual images now\n",
    "        \n",
    "        scroll_to_end(driver)\n",
    "        \n",
    "        thumbnail_results = driver.find_elements_by_xpath(\"//img[contains(@class,'Q4LuWd')]\")\n",
    "        totalResults=len(thumbnail_results)\n",
    "        print(f\"Found: {totalResults} search results. Extracting links from{results_start}:{totalResults}\")\n",
    "        \n",
    "        for img in thumbnail_results[results_start:totalResults]:\n",
    "            \n",
    "            img.click()\n",
    "            time.sleep(2)\n",
    "            actual_images = driver.find_elements_by_css_selector('img.n3VNCb')\n",
    "            for actual_image in actual_images:\n",
    "                if actual_image.get_attribute('src') and 'https' in actual_image.get_attribute('src'):\n",
    "                    img_urls.add(actual_image.get_attribute('src'))\n",
    "            \n",
    "            img_count=len(img_urls)\n",
    "            \n",
    "            if img_count >= totalImgs:\n",
    "                print(f\"Found: {img_count} image links\")\n",
    "                break\n",
    "            else:\n",
    "                print(\"Found:\", img_count, \"looking for more image links ...\")                \n",
    "                load_more_button = driver.find_element_by_css_selector(\".mye4qd\")\n",
    "                driver.execute_script(\"document.querySelector('.mye4qd').click();\")\n",
    "                results_start = len(thumbnail_results)\n",
    "    return img_urls\n",
    "\n"
   ]
  },
  {
   "cell_type": "code",
   "execution_count": 8,
   "metadata": {},
   "outputs": [],
   "source": [
    "#Step 6: Write a function to download each Image\n",
    "def downloadImages(folder_path,file_name,url):\n",
    "    try:\n",
    "        image_content = requests.get(url).content\n",
    "    except Exception as e:\n",
    "        print(f\"ERROR - COULD NOT DOWNLOAD {url} - {e}\")\n",
    "    try:\n",
    "        image_file = io.BytesIO(image_content)\n",
    "        image = Image.open(image_file).convert('RGB')\n",
    "       \n",
    "        file_path = os.path.join(folder_path, file_name)\n",
    "        \n",
    "        with open(file_path, 'wb') as f:\n",
    "            image.save(f, \"JPEG\", quality=85)\n",
    "        print(f\"SAVED - {url} - AT: {file_path}\")\n",
    "    except Exception as e:\n",
    "        print(f\"ERROR - COULD NOT SAVE {url} - {e}\")\n",
    "\n"
   ]
  },
  {
   "cell_type": "code",
   "execution_count": 9,
   "metadata": {},
   "outputs": [
    {
     "name": "stdout",
     "output_type": "stream",
     "text": [
      "Found: 100 search results. Extracting links from0:100\n",
      "Found: 1 looking for more image links ...\n",
      "Found: 2 looking for more image links ...\n",
      "Found: 3 looking for more image links ...\n",
      "Found: 3 looking for more image links ...\n",
      "Found: 4 looking for more image links ...\n",
      "Found: 5 looking for more image links ...\n",
      "Found: 6 looking for more image links ...\n",
      "Found: 7 looking for more image links ...\n",
      "Found: 8 looking for more image links ...\n",
      "Found: 9 looking for more image links ...\n",
      "Found: 10 image links\n",
      "totalLinks {'https://upload.wikimedia.org/wikipedia/commons/thumb/4/43/Sedan-car.svg/1280px-Sedan-car.svg.png', 'https://freesvg.org/img/carsymbol5a.png', 'https://c0.wallpaperflare.com/preview/1002/1002/480/car-concept-vehicle-auto.jpg', 'https://cdn.pixabay.com/photo/2020/11/06/19/11/car-5718701_960_720.jpg', 'https://www.publicdomainpictures.net/pictures/370000/velka/toyota-car.jpg', 'https://cdn.pixabay.com/photo/2017/02/01/12/23/car-2030056_960_720.png', 'https://images.pexels.com/photos/1534604/pexels-photo-1534604.jpeg?cs=srgb&dl=pexels-shukhrat-umarov-1534604.jpg&fm=jpg', 'https://c1.wallpaperflare.com/preview/191/733/313/car-concept-vehicle-auto-speed-transportation.jpg', 'https://cdn.pixabay.com/photo/2020/09/03/21/28/car-5542447_960_720.jpg', 'https://c1.wallpaperflare.com/preview/950/761/136/car-concept-vehicle-auto-speed-transportation.jpg'}\n",
      "SAVED - https://upload.wikimedia.org/wikipedia/commons/thumb/4/43/Sedan-car.svg/1280px-Sedan-car.svg.png - AT: ./Dataset/Car/                                                                                                                                                     0.jpg\n",
      "SAVED - https://freesvg.org/img/carsymbol5a.png - AT: ./Dataset/Car/                                                                                                                                                     1.jpg\n",
      "SAVED - https://c0.wallpaperflare.com/preview/1002/1002/480/car-concept-vehicle-auto.jpg - AT: ./Dataset/Car/                                                                                                                                                     2.jpg\n",
      "SAVED - https://cdn.pixabay.com/photo/2020/11/06/19/11/car-5718701_960_720.jpg - AT: ./Dataset/Car/                                                                                                                                                     3.jpg\n",
      "ERROR - COULD NOT SAVE https://www.publicdomainpictures.net/pictures/370000/velka/toyota-car.jpg - cannot identify image file <_io.BytesIO object at 0x10e15b400>\n",
      "SAVED - https://cdn.pixabay.com/photo/2017/02/01/12/23/car-2030056_960_720.png - AT: ./Dataset/Car/                                                                                                                                                     5.jpg\n",
      "SAVED - https://images.pexels.com/photos/1534604/pexels-photo-1534604.jpeg?cs=srgb&dl=pexels-shukhrat-umarov-1534604.jpg&fm=jpg - AT: ./Dataset/Car/                                                                                                                                                     6.jpg\n",
      "SAVED - https://c1.wallpaperflare.com/preview/191/733/313/car-concept-vehicle-auto-speed-transportation.jpg - AT: ./Dataset/Car/                                                                                                                                                     7.jpg\n",
      "SAVED - https://cdn.pixabay.com/photo/2020/09/03/21/28/car-5542447_960_720.jpg - AT: ./Dataset/Car/                                                                                                                                                     8.jpg\n",
      "SAVED - https://c1.wallpaperflare.com/preview/950/761/136/car-concept-vehicle-auto-speed-transportation.jpg - AT: ./Dataset/Car/                                                                                                                                                     9.jpg\n",
      "Found: 100 search results. Extracting links from0:100\n",
      "Found: 1 looking for more image links ...\n",
      "Found: 1 looking for more image links ...\n",
      "Found: 2 looking for more image links ...\n",
      "Found: 2 looking for more image links ...\n",
      "Found: 3 looking for more image links ...\n",
      "Found: 4 looking for more image links ...\n",
      "Found: 5 looking for more image links ...\n",
      "Found: 6 looking for more image links ...\n",
      "Found: 7 looking for more image links ...\n",
      "Found: 8 looking for more image links ...\n",
      "Found: 8 looking for more image links ...\n",
      "Found: 9 looking for more image links ...\n",
      "Found: 10 image links\n",
      "totalLinks {'https://cdn.pixabay.com/photo/2015/10/12/14/57/dogs-984015_960_720.jpg', 'https://cdn.pixabay.com/photo/2016/10/31/14/55/rottweiler-1785760_960_720.jpg', 'https://live.staticflickr.com/3375/3544149457_7f395d77c2_b.jpg', 'https://upload.wikimedia.org/wikipedia/commons/4/43/Cute_dog.jpg', 'https://media.defense.gov/2006/Feb/02/2000568529/780/780/0/060131-F-7552L-007.JPG', 'https://upload.wikimedia.org/wikipedia/commons/1/17/WI_Police_Dog.jpg', 'https://upload.wikimedia.org/wikipedia/commons/thumb/d/d9/Collage_of_Nine_Dogs.jpg/682px-Collage_of_Nine_Dogs.jpg', 'https://upload.wikimedia.org/wikipedia/commons/thumb/4/47/American_Eskimo_Dog.jpg/612px-American_Eskimo_Dog.jpg', 'https://cdn.pixabay.com/photo/2020/01/02/19/33/dog-dogs-4736678_960_720.jpg', 'https://upload.wikimedia.org/wikipedia/commons/1/18/Dog_Breeds.jpg'}\n",
      "SAVED - https://cdn.pixabay.com/photo/2015/10/12/14/57/dogs-984015_960_720.jpg - AT: ./Dataset/dogs/                                                                                                                                                     0.jpg\n",
      "SAVED - https://cdn.pixabay.com/photo/2016/10/31/14/55/rottweiler-1785760_960_720.jpg - AT: ./Dataset/dogs/                                                                                                                                                     1.jpg\n",
      "SAVED - https://live.staticflickr.com/3375/3544149457_7f395d77c2_b.jpg - AT: ./Dataset/dogs/                                                                                                                                                     2.jpg\n",
      "SAVED - https://upload.wikimedia.org/wikipedia/commons/4/43/Cute_dog.jpg - AT: ./Dataset/dogs/                                                                                                                                                     3.jpg\n",
      "SAVED - https://media.defense.gov/2006/Feb/02/2000568529/780/780/0/060131-F-7552L-007.JPG - AT: ./Dataset/dogs/                                                                                                                                                     4.jpg\n",
      "SAVED - https://upload.wikimedia.org/wikipedia/commons/1/17/WI_Police_Dog.jpg - AT: ./Dataset/dogs/                                                                                                                                                     5.jpg\n",
      "SAVED - https://upload.wikimedia.org/wikipedia/commons/thumb/d/d9/Collage_of_Nine_Dogs.jpg/682px-Collage_of_Nine_Dogs.jpg - AT: ./Dataset/dogs/                                                                                                                                                     6.jpg\n",
      "SAVED - https://upload.wikimedia.org/wikipedia/commons/thumb/4/47/American_Eskimo_Dog.jpg/612px-American_Eskimo_Dog.jpg - AT: ./Dataset/dogs/                                                                                                                                                     7.jpg\n",
      "SAVED - https://cdn.pixabay.com/photo/2020/01/02/19/33/dog-dogs-4736678_960_720.jpg - AT: ./Dataset/dogs/                                                                                                                                                     8.jpg\n",
      "SAVED - https://upload.wikimedia.org/wikipedia/commons/1/18/Dog_Breeds.jpg - AT: ./Dataset/dogs/                                                                                                                                                     9.jpg\n"
     ]
    }
   ],
   "source": [
    "#Step7: – Write a function to save each Image in the Destination directory\n",
    "def saveInDestFolder(searchNames,destDir,totalImgs,driver):\n",
    "    for name in list(searchNames):\n",
    "        path=os.path.join(destDir,name)\n",
    "        if not os.path.isdir(path):\n",
    "            os.mkdir(path)\n",
    "        #print('Current Path',path)\n",
    "        totalLinks=getImageUrls(name,totalImgs,driver)\n",
    "        print('totalLinks',totalLinks)\n",
    "\n",
    "        if totalLinks is None:\n",
    "            print('images not found for :',name)\n",
    "            continue\n",
    "        else:\n",
    "            for i, link in enumerate(totalLinks):\n",
    "                file_name = f\"{i:150}.jpg\"\n",
    "                downloadImages(path,file_name,link)\n",
    "            \n",
    "searchNames=['Car','dogs'] \n",
    "destDir=f'./Dataset/'\n",
    "totalImgs=10\n",
    "\n",
    "saveInDestFolder(searchNames,destDir,totalImgs,driver)\n",
    "\n"
   ]
  },
  {
   "cell_type": "code",
   "execution_count": null,
   "metadata": {},
   "outputs": [],
   "source": []
  }
 ],
 "metadata": {
  "kernelspec": {
   "display_name": "Python 3",
   "language": "python",
   "name": "python3"
  },
  "language_info": {
   "codemirror_mode": {
    "name": "ipython",
    "version": 3
   },
   "file_extension": ".py",
   "mimetype": "text/x-python",
   "name": "python",
   "nbconvert_exporter": "python",
   "pygments_lexer": "ipython3",
   "version": "3.8.5"
  }
 },
 "nbformat": 4,
 "nbformat_minor": 4
}
